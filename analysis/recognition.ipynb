{
 "cells": [
  {
   "cell_type": "markdown",
   "metadata": {},
   "source": [
    "# Distances"
   ]
  },
  {
   "cell_type": "code",
   "execution_count": 1,
   "metadata": {},
   "outputs": [],
   "source": [
    "from math import sqrt"
   ]
  },
  {
   "cell_type": "code",
   "execution_count": 2,
   "metadata": {},
   "outputs": [],
   "source": [
    "def euclidean_distance(list1, list2):\n",
    "    distance = 0\n",
    "    min_len = min(len(list1), len(list2))\n",
    "\n",
    "    for i in range(0, min_len):\n",
    "        distance += sqrt(abs(list1[i]**2 - list2[i]**2))\n",
    "\n",
    "    return distance"
   ]
  },
  {
   "cell_type": "code",
   "execution_count": 3,
   "metadata": {},
   "outputs": [],
   "source": [
    "def manhattan_distance(list1, list2):\n",
    "    distance = 0\n",
    "    min_len = min(len(list1), len(list2))\n",
    "\n",
    "    for i in range(0, min_len):\n",
    "        distance += abs(list1[i] - list2[i])\n",
    "    return distance"
   ]
  },
  {
   "cell_type": "code",
   "execution_count": 4,
   "metadata": {},
   "outputs": [],
   "source": [
    "list_a = [1,2,3,4,5,6,7,8,9,10]\n",
    "list_b = [10,9,8,7,6,5,4,3,2,1]"
   ]
  },
  {
   "cell_type": "code",
   "execution_count": 5,
   "metadata": {},
   "outputs": [
    {
     "name": "stdout",
     "output_type": "stream",
     "text": [
      "70.40444936489483\n",
      "0.0\n"
     ]
    }
   ],
   "source": [
    "print(euclidean_distance(list_a, list_b))\n",
    "print(euclidean_distance(list_a, list_a))"
   ]
  },
  {
   "cell_type": "code",
   "execution_count": 6,
   "metadata": {},
   "outputs": [
    {
     "name": "stdout",
     "output_type": "stream",
     "text": [
      "50\n",
      "0\n"
     ]
    }
   ],
   "source": [
    "print(manhattan_distance(list_a, list_b))\n",
    "print(manhattan_distance(list_a, list_a))"
   ]
  },
  {
   "cell_type": "markdown",
   "metadata": {},
   "source": [
    "# Database"
   ]
  },
  {
   "cell_type": "code",
   "execution_count": 7,
   "metadata": {},
   "outputs": [],
   "source": [
    "import os\n",
    "import sqlite3"
   ]
  },
  {
   "cell_type": "code",
   "execution_count": 8,
   "metadata": {},
   "outputs": [],
   "source": [
    "class DatabaseManager:\n",
    "    '''Manages database connections, executes scripts'''\n",
    "    def __init__(self, path, create_db_script):\n",
    "        '''Initializes sqlite3 database.\n",
    "\n",
    "        Keyword arguments:\n",
    "        path -- the path where database file is saved\n",
    "        '''\n",
    "        self.path = path\n",
    "\n",
    "        if not os.path.exists(path):\n",
    "            self.conn = sqlite3.connect(path)\n",
    "            print('Creating database...')\n",
    "            self.execute(create_db_script)\n",
    "        else:\n",
    "            self.conn = sqlite3.connect(path)\n",
    "\n",
    "    def run_sql_from_file(self, path):\n",
    "        '''Executes specified by path script'''\n",
    "        with open(path) as f:\n",
    "            script = f.read()\n",
    "        self.conn.execute(script)\n",
    "\n",
    "    def execute(self, command):\n",
    "        '''Executes specified sql command'''\n",
    "        return self.conn.execute(command)\n",
    "\n",
    "    def open(self):\n",
    "        '''Opens database connection'''\n",
    "        self.conn = sqlite3.connect(self.path)\n",
    "\n",
    "    def close(self):\n",
    "        '''Closes database connection'''\n",
    "        self.conn.close()"
   ]
  },
  {
   "cell_type": "code",
   "execution_count": 9,
   "metadata": {},
   "outputs": [],
   "source": [
    "PATH = os.path.abspath('./database')\n",
    "create_db_script = '''create table user_typing_data (\n",
    "                          time timestamp not null default current_timestamp,\n",
    "                          user_id integer not null,\n",
    "                          input0 text not null,\n",
    "                          ip text,\n",
    "                          browser text,\n",
    "                          primary key  (time, user_id)\n",
    "                        );'''\n",
    "db_path = os.path.join(PATH, 'database.db')\n",
    "database = DatabaseManager(db_path, create_db_script)"
   ]
  },
  {
   "cell_type": "code",
   "execution_count": 10,
   "metadata": {},
   "outputs": [],
   "source": [
    "insert_data_script = os.path.join('./data', 'insert_data.sql')\n",
    "try:\n",
    "    database.run_sql_from_file(insert_data_script)\n",
    "except sqlite3.IntegrityError:\n",
    "    pass"
   ]
  },
  {
   "cell_type": "markdown",
   "metadata": {},
   "source": [
    "# User"
   ]
  },
  {
   "cell_type": "code",
   "execution_count": 11,
   "metadata": {},
   "outputs": [],
   "source": [
    "from datetime import datetime\n",
    "import random"
   ]
  },
  {
   "cell_type": "code",
   "execution_count": 12,
   "metadata": {},
   "outputs": [],
   "source": [
    "class UserData:\n",
    "    def __init__(self, tuple_object):\n",
    "        self.time = datetime.strptime(tuple_object[0], \"%Y-%m-%d %H:%M:%S\")\n",
    "        self.user_id = int(tuple_object[1])\n",
    "        self.input0_time = self.parse_input(tuple_object[2])\n",
    "        self.ip = tuple_object[3]\n",
    "        self.browser = tuple_object[4]\n",
    "\n",
    "    def parse_input(self, input0):\n",
    "        splitted = input0.split(' ')\n",
    "        inputs = list()\n",
    "        last_time = 0\n",
    "\n",
    "        for i in range(1, len(splitted)):\n",
    "            key = splitted[i]\n",
    "            if 'd_16' in key:\n",
    "                continue\n",
    "            if 'u_16' in key:\n",
    "                continue\n",
    "            if key == '':\n",
    "                break\n",
    "            data = key.split('_')\n",
    "            diff = int(data[2]) - last_time\n",
    "            last_time = int(data[2])\n",
    "            inputs.append(diff)\n",
    "\n",
    "        return inputs\n",
    "\n",
    "    def __str__(self):\n",
    "        return str(self.user_id)"
   ]
  },
  {
   "cell_type": "code",
   "execution_count": 13,
   "metadata": {},
   "outputs": [
    {
     "name": "stdout",
     "output_type": "stream",
     "text": [
      "time, user_id, input0, ip, browser, \n",
      "('2013-11-20 07:25:12', 7, 'd_190_0_0 u_190_64 d_84_1008_1 u_84_1063 d_73_1776_2 u_73_1832 d_69_1872_3 u_69_1952 d_53_3128_4 u_53_3176 d_16_5256_5 d_82_5424_5 u_82_5464 u_16_5672 d_79_7303_6 u_79_7359 d_65_10167_7 u_65_10223 d_78_11420_8 u_78_11439 d_76_11679_9 u_76_11719 d_13_12156_10 u_13_12183 ', '81.219.51.76', 'Mozilla/5.0 (Windows NT 5.1; rv:24.0) Gecko/20100101 Firefox/24.0')\n"
     ]
    }
   ],
   "source": [
    "num_ids = 10\n",
    "entries_raw = database.execute(\n",
    "    f'SELECT * from user_typing_data where user_id < {num_ids}'\n",
    ")\n",
    "for desc in entries_raw.description:\n",
    "    print(desc[0], end=', ')\n",
    "print()\n",
    "print(entries_raw.fetchone())"
   ]
  },
  {
   "cell_type": "code",
   "execution_count": 14,
   "metadata": {},
   "outputs": [
    {
     "name": "stdout",
     "output_type": "stream",
     "text": [
      "546\n",
      "[47, 1176, 58, 598, 48, 32, 80, 1136, 56, 1232, 48, 1319, 45, 1139, 45, 156, 52, 232, 48, 568, 24]\n",
      "7\n",
      "81.219.51.76\n",
      "Mozilla/5.0 (Windows NT 5.1; rv:24.0) Gecko/20100101 Firefox/24.0\n"
     ]
    }
   ],
   "source": [
    "entries_list = list()\n",
    "\n",
    "for item_raw in entries_raw:\n",
    "    user = UserData(item_raw)\n",
    "    entries_list.append(user)\n",
    "print(len(entries_list))\n",
    "print(entries_list[0].input0_time)\n",
    "print(entries_list[0].user_id)\n",
    "print(entries_list[0].ip)\n",
    "print(entries_list[0].browser)"
   ]
  },
  {
   "cell_type": "code",
   "execution_count": 15,
   "metadata": {},
   "outputs": [],
   "source": [
    "random.shuffle(entries_list)\n",
    "percent = 0.73\n",
    "train_len = int(len(entries_list) * percent)\n",
    "test_len = len(entries_list) - train_len\n",
    "train_set = entries_list[test_len:]\n",
    "test_set = entries_list[:-train_len]"
   ]
  },
  {
   "cell_type": "code",
   "execution_count": 16,
   "metadata": {},
   "outputs": [
    {
     "name": "stdout",
     "output_type": "stream",
     "text": [
      "398 148 0.27106227106227104\n"
     ]
    }
   ],
   "source": [
    "print(len(train_set), len(test_set), len(test_set) / len(entries_list))"
   ]
  },
  {
   "cell_type": "markdown",
   "metadata": {},
   "source": [
    "# Classifier"
   ]
  },
  {
   "cell_type": "code",
   "execution_count": 17,
   "metadata": {},
   "outputs": [],
   "source": [
    "from operator import itemgetter\n",
    "from datetime import timedelta\n"
   ]
  },
  {
   "cell_type": "code",
   "execution_count": 18,
   "metadata": {},
   "outputs": [],
   "source": [
    "class kNNClassifier:\n",
    "    def __init__(self, distance_function):\n",
    "        self.distance_function = distance_function\n",
    "\n",
    "    def get_k_neighbours(self, test_instance, training_set, k):\n",
    "        distances = list()\n",
    "        for x in range(len(training_set)):\n",
    "            train_instance = training_set[x]\n",
    "            dist = self.distance_function(\n",
    "                test_instance.input0_time,\n",
    "                train_instance.input0_time\n",
    "            )\n",
    "            if test_instance.ip != train_instance.ip:\n",
    "                dist += 1000\n",
    "            if test_instance.browser != train_instance.browser:\n",
    "                dist += 600\n",
    "            if test_instance.time - train_instance.time > timedelta(hours=1):\n",
    "                dist += 200\n",
    "\n",
    "            distances.append((training_set[x], dist))\n",
    "        distances.sort(key=itemgetter(1))\n",
    "        neighbors = list()\n",
    "        for x in range(k):\n",
    "            neighbors.append(distances[x][0])\n",
    "        return neighbors\n",
    "\n",
    "    def frequent_sort(self, neighbours):\n",
    "        id_to_num = dict()\n",
    "\n",
    "        for neighbour in neighbours:\n",
    "            class_id = neighbour.user_id\n",
    "            if class_id in id_to_num:\n",
    "                id_to_num[class_id] += 1\n",
    "            else:\n",
    "                id_to_num[class_id] = 0\n",
    "\n",
    "        sorted_id_to_num = sorted(\n",
    "            id_to_num.items(),\n",
    "            key=itemgetter(1),\n",
    "            reverse=True\n",
    "\n",
    "        )\n",
    "        return sorted_id_to_num\n",
    "\n",
    "    def classify(self, test_instance, training_set, k):\n",
    "        neighbours = self.get_k_neighbours(\n",
    "            test_instance,\n",
    "            training_set,\n",
    "            k\n",
    "        )\n",
    "\n",
    "        ret_class_id = self.frequent_sort(neighbours)[0][0]\n",
    "\n",
    "        return ret_class_id"
   ]
  },
  {
   "cell_type": "code",
   "execution_count": 19,
   "metadata": {},
   "outputs": [],
   "source": [
    "distance_funcs = {\n",
    "    \"Manhattan Distance\": manhattan_distance,\n",
    "    \"Euclidean Distance\": euclidean_distance\n",
    "}"
   ]
  },
  {
   "cell_type": "code",
   "execution_count": 20,
   "metadata": {},
   "outputs": [
    {
     "name": "stdout",
     "output_type": "stream",
     "text": [
      "k = 1\n",
      "Accuracy: 0.9797297297297297 using Manhattan Distance\n",
      "Accuracy: 0.972972972972973 using Euclidean Distance\n"
     ]
    }
   ],
   "source": [
    "for k_num in range(1, 2):\n",
    "    print(f\"k = {k_num}\")\n",
    "    for distance_func_name in distance_funcs:\n",
    "        successes = 0\n",
    "        knn_classifier = kNNClassifier(distance_funcs[distance_func_name])\n",
    "\n",
    "        for test_inst in test_set:\n",
    "            result_id = knn_classifier.classify(\n",
    "                test_inst,\n",
    "                train_set,\n",
    "                k_num\n",
    "            )\n",
    "            if test_inst.user_id == result_id:\n",
    "                successes += 1\n",
    "\n",
    "        accuracy = successes / len(test_set)\n",
    "        print(f'Accuracy: {accuracy} using {distance_func_name}')\n"
   ]
  },
  {
   "cell_type": "code",
   "execution_count": 21,
   "metadata": {},
   "outputs": [],
   "source": [
    "database.close()"
   ]
  }
 ],
 "metadata": {
  "interpreter": {
   "hash": "d62a11c47bd0f99c927e1dc368487d7edc3d92192f42938d8218c122d73a1b95"
  },
  "kernelspec": {
   "display_name": "Python 3.8.5 32-bit",
   "name": "python3"
  },
  "language_info": {
   "codemirror_mode": {
    "name": "ipython",
    "version": 3
   },
   "file_extension": ".py",
   "mimetype": "text/x-python",
   "name": "python",
   "nbconvert_exporter": "python",
   "pygments_lexer": "ipython3",
   "version": "3.8.5"
  },
  "orig_nbformat": 4
 },
 "nbformat": 4,
 "nbformat_minor": 2
}
